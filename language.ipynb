{
 "cells": [
  {
   "cell_type": "code",
   "execution_count": 62,
   "metadata": {},
   "outputs": [],
   "source": [
    "import pandas as pd\n",
    "from pathlib import Path\n",
    "import chardet\n",
    "import numpy as np"
   ]
  },
  {
   "cell_type": "code",
   "execution_count": 2,
   "metadata": {},
   "outputs": [],
   "source": [
    "RAW_MOVIE_PATH = Path(\"data\", \"movies.csv\")"
   ]
  },
  {
   "cell_type": "code",
   "execution_count": 3,
   "metadata": {},
   "outputs": [
    {
     "data": {
      "text/plain": [
       "{'encoding': 'ISO-8859-1', 'confidence': 0.7298640493430825, 'language': ''}"
      ]
     },
     "execution_count": 3,
     "metadata": {},
     "output_type": "execute_result"
    }
   ],
   "source": [
    "with open(RAW_MOVIE_PATH, \"rb\") as raw_movie_file:\n",
    "    raw_movie_text = raw_movie_file.read()\n",
    "\n",
    "chardet_result = chardet.detect(raw_movie_text)\n",
    "chardet_result  \n",
    "  "
   ]
  },
  {
   "cell_type": "code",
   "execution_count": 4,
   "metadata": {},
   "outputs": [
    {
     "data": {
      "text/plain": [
       "dict_keys(['encoding', 'confidence', 'language'])"
      ]
     },
     "execution_count": 4,
     "metadata": {},
     "output_type": "execute_result"
    }
   ],
   "source": [
    "chardet_result.keys()"
   ]
  },
  {
   "cell_type": "code",
   "execution_count": 5,
   "metadata": {},
   "outputs": [
    {
     "data": {
      "text/plain": [
       "'ISO-8859-1'"
      ]
     },
     "execution_count": 5,
     "metadata": {},
     "output_type": "execute_result"
    }
   ],
   "source": [
    "chardet_result[\"encoding\"]"
   ]
  },
  {
   "cell_type": "code",
   "execution_count": 6,
   "metadata": {},
   "outputs": [
    {
     "name": "stdout",
     "output_type": "stream",
     "text": [
      "(995, 11)\n"
     ]
    }
   ],
   "source": [
    "raw_df = pd.read_csv(RAW_MOVIE_PATH, encoding=chardet_result[\"encoding\"]) \n",
    "print(raw_df.shape)\n"
   ]
  },
  {
   "cell_type": "code",
   "execution_count": 7,
   "metadata": {},
   "outputs": [
    {
     "name": "stdout",
     "output_type": "stream",
     "text": [
      "(995, 12)\n"
     ]
    },
    {
     "data": {
      "text/html": [
       "<div>\n",
       "<style scoped>\n",
       "    .dataframe tbody tr th:only-of-type {\n",
       "        vertical-align: middle;\n",
       "    }\n",
       "\n",
       "    .dataframe tbody tr th {\n",
       "        vertical-align: top;\n",
       "    }\n",
       "\n",
       "    .dataframe thead th {\n",
       "        text-align: right;\n",
       "    }\n",
       "</style>\n",
       "<table border=\"1\" class=\"dataframe\">\n",
       "  <thead>\n",
       "    <tr style=\"text-align: right;\">\n",
       "      <th></th>\n",
       "      <th>imdbID</th>\n",
       "      <th>Title</th>\n",
       "      <th>Year</th>\n",
       "      <th>Runtime</th>\n",
       "      <th>Genre</th>\n",
       "      <th>Awards</th>\n",
       "      <th>BoxOffice</th>\n",
       "      <th>Ratings</th>\n",
       "      <th>Language</th>\n",
       "      <th>Director</th>\n",
       "      <th>Actors</th>\n",
       "      <th>Lang</th>\n",
       "    </tr>\n",
       "  </thead>\n",
       "  <tbody>\n",
       "    <tr>\n",
       "      <th>0</th>\n",
       "      <td>tt9114286</td>\n",
       "      <td>Black Panther: Wakanda Forever</td>\n",
       "      <td>2022</td>\n",
       "      <td>161 min</td>\n",
       "      <td>Action, Adventure, Drama</td>\n",
       "      <td>Won 1 Oscar. 50 wins &amp; 172 nominations total</td>\n",
       "      <td>$453,829,060</td>\n",
       "      <td>[{'Source': 'Internet Movie Database', 'Value'...</td>\n",
       "      <td>English, Xhosa, Maya, Spanish, Haitian, French</td>\n",
       "      <td>Ryan Coogler</td>\n",
       "      <td>Letitia Wright, Lupita Nyong'o, Danai Gurira</td>\n",
       "      <td>[English,  Xhosa,  Maya,  Spanish,  Haitian,  ...</td>\n",
       "    </tr>\n",
       "    <tr>\n",
       "      <th>1</th>\n",
       "      <td>tt1630029</td>\n",
       "      <td>Avatar: The Way of Water</td>\n",
       "      <td>2022</td>\n",
       "      <td>192 min</td>\n",
       "      <td>Action, Adventure, Fantasy</td>\n",
       "      <td>Won 1 Oscar. 75 wins &amp; 150 nominations total</td>\n",
       "      <td>$684,075,767</td>\n",
       "      <td>[{'Source': 'Internet Movie Database', 'Value'...</td>\n",
       "      <td>English</td>\n",
       "      <td>James Cameron</td>\n",
       "      <td>Sam Worthington, Zoe Saldana, Sigourney Weaver</td>\n",
       "      <td>[English]</td>\n",
       "    </tr>\n",
       "    <tr>\n",
       "      <th>2</th>\n",
       "      <td>tt5884796</td>\n",
       "      <td>Plane</td>\n",
       "      <td>2023</td>\n",
       "      <td>107 min</td>\n",
       "      <td>Action, Adventure, Thriller</td>\n",
       "      <td>NaN</td>\n",
       "      <td>$32,111,181</td>\n",
       "      <td>[{'Source': 'Internet Movie Database', 'Value'...</td>\n",
       "      <td>English, Tagalog</td>\n",
       "      <td>Jean-François Richet</td>\n",
       "      <td>Gerard Butler, Mike Colter, Tony Goldwyn</td>\n",
       "      <td>[English,  Tagalog]</td>\n",
       "    </tr>\n",
       "    <tr>\n",
       "      <th>3</th>\n",
       "      <td>tt6710474</td>\n",
       "      <td>Everything Everywhere All at Once</td>\n",
       "      <td>2022</td>\n",
       "      <td>139 min</td>\n",
       "      <td>Action, Adventure, Comedy</td>\n",
       "      <td>Won 7 Oscars. 402 wins &amp; 373 nominations total</td>\n",
       "      <td>$77,191,785</td>\n",
       "      <td>[{'Source': 'Internet Movie Database', 'Value'...</td>\n",
       "      <td>English, Mandarin, Cantonese</td>\n",
       "      <td>Daniel Kwan, Daniel Scheinert</td>\n",
       "      <td>Michelle Yeoh, Stephanie Hsu, Jamie Lee Curtis</td>\n",
       "      <td>[English,  Mandarin,  Cantonese]</td>\n",
       "    </tr>\n",
       "    <tr>\n",
       "      <th>4</th>\n",
       "      <td>tt5433140</td>\n",
       "      <td>Fast X</td>\n",
       "      <td>2023</td>\n",
       "      <td>141 min</td>\n",
       "      <td>Action, Adventure, Crime</td>\n",
       "      <td>2 wins &amp; 14 nominations</td>\n",
       "      <td>$146,126,015</td>\n",
       "      <td>[{'Source': 'Internet Movie Database', 'Value'...</td>\n",
       "      <td>English</td>\n",
       "      <td>Louis Leterrier</td>\n",
       "      <td>Vin Diesel, Michelle Rodriguez, Jason Statham</td>\n",
       "      <td>[English]</td>\n",
       "    </tr>\n",
       "  </tbody>\n",
       "</table>\n",
       "</div>"
      ],
      "text/plain": [
       "      imdbID                              Title  Year  Runtime  \\\n",
       "0  tt9114286     Black Panther: Wakanda Forever  2022  161 min   \n",
       "1  tt1630029           Avatar: The Way of Water  2022  192 min   \n",
       "2  tt5884796                              Plane  2023  107 min   \n",
       "3  tt6710474  Everything Everywhere All at Once  2022  139 min   \n",
       "4  tt5433140                             Fast X  2023  141 min   \n",
       "\n",
       "                         Genre  \\\n",
       "0     Action, Adventure, Drama   \n",
       "1   Action, Adventure, Fantasy   \n",
       "2  Action, Adventure, Thriller   \n",
       "3    Action, Adventure, Comedy   \n",
       "4     Action, Adventure, Crime   \n",
       "\n",
       "                                           Awards      BoxOffice  \\\n",
       "0    Won 1 Oscar. 50 wins & 172 nominations total  $453,829,060    \n",
       "1    Won 1 Oscar. 75 wins & 150 nominations total  $684,075,767    \n",
       "2                                             NaN   $32,111,181    \n",
       "3  Won 7 Oscars. 402 wins & 373 nominations total   $77,191,785    \n",
       "4                         2 wins & 14 nominations  $146,126,015    \n",
       "\n",
       "                                             Ratings  \\\n",
       "0  [{'Source': 'Internet Movie Database', 'Value'...   \n",
       "1  [{'Source': 'Internet Movie Database', 'Value'...   \n",
       "2  [{'Source': 'Internet Movie Database', 'Value'...   \n",
       "3  [{'Source': 'Internet Movie Database', 'Value'...   \n",
       "4  [{'Source': 'Internet Movie Database', 'Value'...   \n",
       "\n",
       "                                         Language  \\\n",
       "0  English, Xhosa, Maya, Spanish, Haitian, French   \n",
       "1                                         English   \n",
       "2                                English, Tagalog   \n",
       "3                    English, Mandarin, Cantonese   \n",
       "4                                         English   \n",
       "\n",
       "                        Director  \\\n",
       "0                   Ryan Coogler   \n",
       "1                  James Cameron   \n",
       "2           Jean-François Richet   \n",
       "3  Daniel Kwan, Daniel Scheinert   \n",
       "4                Louis Leterrier   \n",
       "\n",
       "                                           Actors  \\\n",
       "0    Letitia Wright, Lupita Nyong'o, Danai Gurira   \n",
       "1  Sam Worthington, Zoe Saldana, Sigourney Weaver   \n",
       "2        Gerard Butler, Mike Colter, Tony Goldwyn   \n",
       "3  Michelle Yeoh, Stephanie Hsu, Jamie Lee Curtis   \n",
       "4   Vin Diesel, Michelle Rodriguez, Jason Statham   \n",
       "\n",
       "                                                Lang  \n",
       "0  [English,  Xhosa,  Maya,  Spanish,  Haitian,  ...  \n",
       "1                                          [English]  \n",
       "2                                [English,  Tagalog]  \n",
       "3                   [English,  Mandarin,  Cantonese]  \n",
       "4                                          [English]  "
      ]
     },
     "execution_count": 7,
     "metadata": {},
     "output_type": "execute_result"
    }
   ],
   "source": [
    "raw_df[\"Lang\"] = raw_df[\"Language\"].str.split(pat=\",\") \n",
    "print(raw_df.shape)\n",
    "raw_df.head()"
   ]
  },
  {
   "cell_type": "code",
   "execution_count": 24,
   "metadata": {},
   "outputs": [
    {
     "name": "stdout",
     "output_type": "stream",
     "text": [
      "(1982, 12)\n"
     ]
    },
    {
     "data": {
      "text/html": [
       "<div>\n",
       "<style scoped>\n",
       "    .dataframe tbody tr th:only-of-type {\n",
       "        vertical-align: middle;\n",
       "    }\n",
       "\n",
       "    .dataframe tbody tr th {\n",
       "        vertical-align: top;\n",
       "    }\n",
       "\n",
       "    .dataframe thead th {\n",
       "        text-align: right;\n",
       "    }\n",
       "</style>\n",
       "<table border=\"1\" class=\"dataframe\">\n",
       "  <thead>\n",
       "    <tr style=\"text-align: right;\">\n",
       "      <th></th>\n",
       "      <th>imdbID</th>\n",
       "      <th>Title</th>\n",
       "      <th>Year</th>\n",
       "      <th>Runtime</th>\n",
       "      <th>Genre</th>\n",
       "      <th>Awards</th>\n",
       "      <th>BoxOffice</th>\n",
       "      <th>Ratings</th>\n",
       "      <th>Language</th>\n",
       "      <th>Director</th>\n",
       "      <th>Actors</th>\n",
       "      <th>Lang</th>\n",
       "    </tr>\n",
       "  </thead>\n",
       "  <tbody>\n",
       "    <tr>\n",
       "      <th>0</th>\n",
       "      <td>tt9114286</td>\n",
       "      <td>Black Panther: Wakanda Forever</td>\n",
       "      <td>2022</td>\n",
       "      <td>161 min</td>\n",
       "      <td>Action, Adventure, Drama</td>\n",
       "      <td>Won 1 Oscar. 50 wins &amp; 172 nominations total</td>\n",
       "      <td>$453,829,060</td>\n",
       "      <td>[{'Source': 'Internet Movie Database', 'Value'...</td>\n",
       "      <td>English, Xhosa, Maya, Spanish, Haitian, French</td>\n",
       "      <td>Ryan Coogler</td>\n",
       "      <td>Letitia Wright, Lupita Nyong'o, Danai Gurira</td>\n",
       "      <td>English</td>\n",
       "    </tr>\n",
       "    <tr>\n",
       "      <th>0</th>\n",
       "      <td>tt9114286</td>\n",
       "      <td>Black Panther: Wakanda Forever</td>\n",
       "      <td>2022</td>\n",
       "      <td>161 min</td>\n",
       "      <td>Action, Adventure, Drama</td>\n",
       "      <td>Won 1 Oscar. 50 wins &amp; 172 nominations total</td>\n",
       "      <td>$453,829,060</td>\n",
       "      <td>[{'Source': 'Internet Movie Database', 'Value'...</td>\n",
       "      <td>English, Xhosa, Maya, Spanish, Haitian, French</td>\n",
       "      <td>Ryan Coogler</td>\n",
       "      <td>Letitia Wright, Lupita Nyong'o, Danai Gurira</td>\n",
       "      <td>Xhosa</td>\n",
       "    </tr>\n",
       "    <tr>\n",
       "      <th>0</th>\n",
       "      <td>tt9114286</td>\n",
       "      <td>Black Panther: Wakanda Forever</td>\n",
       "      <td>2022</td>\n",
       "      <td>161 min</td>\n",
       "      <td>Action, Adventure, Drama</td>\n",
       "      <td>Won 1 Oscar. 50 wins &amp; 172 nominations total</td>\n",
       "      <td>$453,829,060</td>\n",
       "      <td>[{'Source': 'Internet Movie Database', 'Value'...</td>\n",
       "      <td>English, Xhosa, Maya, Spanish, Haitian, French</td>\n",
       "      <td>Ryan Coogler</td>\n",
       "      <td>Letitia Wright, Lupita Nyong'o, Danai Gurira</td>\n",
       "      <td>Maya</td>\n",
       "    </tr>\n",
       "    <tr>\n",
       "      <th>0</th>\n",
       "      <td>tt9114286</td>\n",
       "      <td>Black Panther: Wakanda Forever</td>\n",
       "      <td>2022</td>\n",
       "      <td>161 min</td>\n",
       "      <td>Action, Adventure, Drama</td>\n",
       "      <td>Won 1 Oscar. 50 wins &amp; 172 nominations total</td>\n",
       "      <td>$453,829,060</td>\n",
       "      <td>[{'Source': 'Internet Movie Database', 'Value'...</td>\n",
       "      <td>English, Xhosa, Maya, Spanish, Haitian, French</td>\n",
       "      <td>Ryan Coogler</td>\n",
       "      <td>Letitia Wright, Lupita Nyong'o, Danai Gurira</td>\n",
       "      <td>Spanish</td>\n",
       "    </tr>\n",
       "    <tr>\n",
       "      <th>0</th>\n",
       "      <td>tt9114286</td>\n",
       "      <td>Black Panther: Wakanda Forever</td>\n",
       "      <td>2022</td>\n",
       "      <td>161 min</td>\n",
       "      <td>Action, Adventure, Drama</td>\n",
       "      <td>Won 1 Oscar. 50 wins &amp; 172 nominations total</td>\n",
       "      <td>$453,829,060</td>\n",
       "      <td>[{'Source': 'Internet Movie Database', 'Value'...</td>\n",
       "      <td>English, Xhosa, Maya, Spanish, Haitian, French</td>\n",
       "      <td>Ryan Coogler</td>\n",
       "      <td>Letitia Wright, Lupita Nyong'o, Danai Gurira</td>\n",
       "      <td>Haitian</td>\n",
       "    </tr>\n",
       "  </tbody>\n",
       "</table>\n",
       "</div>"
      ],
      "text/plain": [
       "      imdbID                           Title  Year  Runtime  \\\n",
       "0  tt9114286  Black Panther: Wakanda Forever  2022  161 min   \n",
       "0  tt9114286  Black Panther: Wakanda Forever  2022  161 min   \n",
       "0  tt9114286  Black Panther: Wakanda Forever  2022  161 min   \n",
       "0  tt9114286  Black Panther: Wakanda Forever  2022  161 min   \n",
       "0  tt9114286  Black Panther: Wakanda Forever  2022  161 min   \n",
       "\n",
       "                      Genre                                        Awards  \\\n",
       "0  Action, Adventure, Drama  Won 1 Oscar. 50 wins & 172 nominations total   \n",
       "0  Action, Adventure, Drama  Won 1 Oscar. 50 wins & 172 nominations total   \n",
       "0  Action, Adventure, Drama  Won 1 Oscar. 50 wins & 172 nominations total   \n",
       "0  Action, Adventure, Drama  Won 1 Oscar. 50 wins & 172 nominations total   \n",
       "0  Action, Adventure, Drama  Won 1 Oscar. 50 wins & 172 nominations total   \n",
       "\n",
       "       BoxOffice                                            Ratings  \\\n",
       "0  $453,829,060   [{'Source': 'Internet Movie Database', 'Value'...   \n",
       "0  $453,829,060   [{'Source': 'Internet Movie Database', 'Value'...   \n",
       "0  $453,829,060   [{'Source': 'Internet Movie Database', 'Value'...   \n",
       "0  $453,829,060   [{'Source': 'Internet Movie Database', 'Value'...   \n",
       "0  $453,829,060   [{'Source': 'Internet Movie Database', 'Value'...   \n",
       "\n",
       "                                         Language      Director  \\\n",
       "0  English, Xhosa, Maya, Spanish, Haitian, French  Ryan Coogler   \n",
       "0  English, Xhosa, Maya, Spanish, Haitian, French  Ryan Coogler   \n",
       "0  English, Xhosa, Maya, Spanish, Haitian, French  Ryan Coogler   \n",
       "0  English, Xhosa, Maya, Spanish, Haitian, French  Ryan Coogler   \n",
       "0  English, Xhosa, Maya, Spanish, Haitian, French  Ryan Coogler   \n",
       "\n",
       "                                         Actors      Lang  \n",
       "0  Letitia Wright, Lupita Nyong'o, Danai Gurira   English  \n",
       "0  Letitia Wright, Lupita Nyong'o, Danai Gurira     Xhosa  \n",
       "0  Letitia Wright, Lupita Nyong'o, Danai Gurira      Maya  \n",
       "0  Letitia Wright, Lupita Nyong'o, Danai Gurira   Spanish  \n",
       "0  Letitia Wright, Lupita Nyong'o, Danai Gurira   Haitian  "
      ]
     },
     "execution_count": 24,
     "metadata": {},
     "output_type": "execute_result"
    }
   ],
   "source": [
    "lang_df = raw_df.explode(\"Lang\").dropna(subset=['Lang', 'BoxOffice'])\n",
    "print(lang_df.shape)\n",
    "lang_df.head()"
   ]
  },
  {
   "cell_type": "code",
   "execution_count": 41,
   "metadata": {},
   "outputs": [
    {
     "name": "stdout",
     "output_type": "stream",
     "text": [
      "(1982, 13)\n"
     ]
    },
    {
     "data": {
      "text/html": [
       "<div>\n",
       "<style scoped>\n",
       "    .dataframe tbody tr th:only-of-type {\n",
       "        vertical-align: middle;\n",
       "    }\n",
       "\n",
       "    .dataframe tbody tr th {\n",
       "        vertical-align: top;\n",
       "    }\n",
       "\n",
       "    .dataframe thead th {\n",
       "        text-align: right;\n",
       "    }\n",
       "</style>\n",
       "<table border=\"1\" class=\"dataframe\">\n",
       "  <thead>\n",
       "    <tr style=\"text-align: right;\">\n",
       "      <th></th>\n",
       "      <th>imdbID</th>\n",
       "      <th>Title</th>\n",
       "      <th>Year</th>\n",
       "      <th>Runtime</th>\n",
       "      <th>Genre</th>\n",
       "      <th>Awards</th>\n",
       "      <th>BoxOffice</th>\n",
       "      <th>Ratings</th>\n",
       "      <th>Language</th>\n",
       "      <th>Director</th>\n",
       "      <th>Actors</th>\n",
       "      <th>Lang</th>\n",
       "      <th>revenue</th>\n",
       "    </tr>\n",
       "  </thead>\n",
       "  <tbody>\n",
       "    <tr>\n",
       "      <th>0</th>\n",
       "      <td>tt9114286</td>\n",
       "      <td>Black Panther: Wakanda Forever</td>\n",
       "      <td>2022</td>\n",
       "      <td>161 min</td>\n",
       "      <td>Action, Adventure, Drama</td>\n",
       "      <td>Won 1 Oscar. 50 wins &amp; 172 nominations total</td>\n",
       "      <td>$453,829,060</td>\n",
       "      <td>[{'Source': 'Internet Movie Database', 'Value'...</td>\n",
       "      <td>English, Xhosa, Maya, Spanish, Haitian, French</td>\n",
       "      <td>Ryan Coogler</td>\n",
       "      <td>Letitia Wright, Lupita Nyong'o, Danai Gurira</td>\n",
       "      <td>English</td>\n",
       "      <td>453829060</td>\n",
       "    </tr>\n",
       "    <tr>\n",
       "      <th>0</th>\n",
       "      <td>tt9114286</td>\n",
       "      <td>Black Panther: Wakanda Forever</td>\n",
       "      <td>2022</td>\n",
       "      <td>161 min</td>\n",
       "      <td>Action, Adventure, Drama</td>\n",
       "      <td>Won 1 Oscar. 50 wins &amp; 172 nominations total</td>\n",
       "      <td>$453,829,060</td>\n",
       "      <td>[{'Source': 'Internet Movie Database', 'Value'...</td>\n",
       "      <td>English, Xhosa, Maya, Spanish, Haitian, French</td>\n",
       "      <td>Ryan Coogler</td>\n",
       "      <td>Letitia Wright, Lupita Nyong'o, Danai Gurira</td>\n",
       "      <td>Xhosa</td>\n",
       "      <td>453829060</td>\n",
       "    </tr>\n",
       "    <tr>\n",
       "      <th>0</th>\n",
       "      <td>tt9114286</td>\n",
       "      <td>Black Panther: Wakanda Forever</td>\n",
       "      <td>2022</td>\n",
       "      <td>161 min</td>\n",
       "      <td>Action, Adventure, Drama</td>\n",
       "      <td>Won 1 Oscar. 50 wins &amp; 172 nominations total</td>\n",
       "      <td>$453,829,060</td>\n",
       "      <td>[{'Source': 'Internet Movie Database', 'Value'...</td>\n",
       "      <td>English, Xhosa, Maya, Spanish, Haitian, French</td>\n",
       "      <td>Ryan Coogler</td>\n",
       "      <td>Letitia Wright, Lupita Nyong'o, Danai Gurira</td>\n",
       "      <td>Maya</td>\n",
       "      <td>453829060</td>\n",
       "    </tr>\n",
       "    <tr>\n",
       "      <th>0</th>\n",
       "      <td>tt9114286</td>\n",
       "      <td>Black Panther: Wakanda Forever</td>\n",
       "      <td>2022</td>\n",
       "      <td>161 min</td>\n",
       "      <td>Action, Adventure, Drama</td>\n",
       "      <td>Won 1 Oscar. 50 wins &amp; 172 nominations total</td>\n",
       "      <td>$453,829,060</td>\n",
       "      <td>[{'Source': 'Internet Movie Database', 'Value'...</td>\n",
       "      <td>English, Xhosa, Maya, Spanish, Haitian, French</td>\n",
       "      <td>Ryan Coogler</td>\n",
       "      <td>Letitia Wright, Lupita Nyong'o, Danai Gurira</td>\n",
       "      <td>Spanish</td>\n",
       "      <td>453829060</td>\n",
       "    </tr>\n",
       "    <tr>\n",
       "      <th>0</th>\n",
       "      <td>tt9114286</td>\n",
       "      <td>Black Panther: Wakanda Forever</td>\n",
       "      <td>2022</td>\n",
       "      <td>161 min</td>\n",
       "      <td>Action, Adventure, Drama</td>\n",
       "      <td>Won 1 Oscar. 50 wins &amp; 172 nominations total</td>\n",
       "      <td>$453,829,060</td>\n",
       "      <td>[{'Source': 'Internet Movie Database', 'Value'...</td>\n",
       "      <td>English, Xhosa, Maya, Spanish, Haitian, French</td>\n",
       "      <td>Ryan Coogler</td>\n",
       "      <td>Letitia Wright, Lupita Nyong'o, Danai Gurira</td>\n",
       "      <td>Haitian</td>\n",
       "      <td>453829060</td>\n",
       "    </tr>\n",
       "  </tbody>\n",
       "</table>\n",
       "</div>"
      ],
      "text/plain": [
       "      imdbID                           Title  Year  Runtime  \\\n",
       "0  tt9114286  Black Panther: Wakanda Forever  2022  161 min   \n",
       "0  tt9114286  Black Panther: Wakanda Forever  2022  161 min   \n",
       "0  tt9114286  Black Panther: Wakanda Forever  2022  161 min   \n",
       "0  tt9114286  Black Panther: Wakanda Forever  2022  161 min   \n",
       "0  tt9114286  Black Panther: Wakanda Forever  2022  161 min   \n",
       "\n",
       "                      Genre                                        Awards  \\\n",
       "0  Action, Adventure, Drama  Won 1 Oscar. 50 wins & 172 nominations total   \n",
       "0  Action, Adventure, Drama  Won 1 Oscar. 50 wins & 172 nominations total   \n",
       "0  Action, Adventure, Drama  Won 1 Oscar. 50 wins & 172 nominations total   \n",
       "0  Action, Adventure, Drama  Won 1 Oscar. 50 wins & 172 nominations total   \n",
       "0  Action, Adventure, Drama  Won 1 Oscar. 50 wins & 172 nominations total   \n",
       "\n",
       "       BoxOffice                                            Ratings  \\\n",
       "0  $453,829,060   [{'Source': 'Internet Movie Database', 'Value'...   \n",
       "0  $453,829,060   [{'Source': 'Internet Movie Database', 'Value'...   \n",
       "0  $453,829,060   [{'Source': 'Internet Movie Database', 'Value'...   \n",
       "0  $453,829,060   [{'Source': 'Internet Movie Database', 'Value'...   \n",
       "0  $453,829,060   [{'Source': 'Internet Movie Database', 'Value'...   \n",
       "\n",
       "                                         Language      Director  \\\n",
       "0  English, Xhosa, Maya, Spanish, Haitian, French  Ryan Coogler   \n",
       "0  English, Xhosa, Maya, Spanish, Haitian, French  Ryan Coogler   \n",
       "0  English, Xhosa, Maya, Spanish, Haitian, French  Ryan Coogler   \n",
       "0  English, Xhosa, Maya, Spanish, Haitian, French  Ryan Coogler   \n",
       "0  English, Xhosa, Maya, Spanish, Haitian, French  Ryan Coogler   \n",
       "\n",
       "                                         Actors      Lang    revenue  \n",
       "0  Letitia Wright, Lupita Nyong'o, Danai Gurira   English  453829060  \n",
       "0  Letitia Wright, Lupita Nyong'o, Danai Gurira     Xhosa  453829060  \n",
       "0  Letitia Wright, Lupita Nyong'o, Danai Gurira      Maya  453829060  \n",
       "0  Letitia Wright, Lupita Nyong'o, Danai Gurira   Spanish  453829060  \n",
       "0  Letitia Wright, Lupita Nyong'o, Danai Gurira   Haitian  453829060  "
      ]
     },
     "execution_count": 41,
     "metadata": {},
     "output_type": "execute_result"
    }
   ],
   "source": [
    "lang_df['revenue'] = lang_df['BoxOffice'].str.strip().str.replace('$', '').str.replace(',', '').astype('Int64')\n",
    "print(lang_df.shape)\n",
    "lang_df.head()"
   ]
  },
  {
   "cell_type": "code",
   "execution_count": 46,
   "metadata": {},
   "outputs": [
    {
     "data": {
      "text/plain": [
       "936662225"
      ]
     },
     "execution_count": 46,
     "metadata": {},
     "output_type": "execute_result"
    }
   ],
   "source": [
    "lang_df['revenue'].max()"
   ]
  },
  {
   "cell_type": "code",
   "execution_count": 47,
   "metadata": {},
   "outputs": [
    {
     "data": {
      "text/plain": [
       "117191698"
      ]
     },
     "execution_count": 47,
     "metadata": {},
     "output_type": "execute_result"
    }
   ],
   "source": [
    "round(lang_df['revenue'].mean())"
   ]
  },
  {
   "cell_type": "code",
   "execution_count": 58,
   "metadata": {},
   "outputs": [
    {
     "data": {
      "text/plain": [
       "Lang\n",
       " Afrikaans            120580943.0\n",
       " Albanian             145000989.0\n",
       " American Sign        125734058.0\n",
       " Ancient (to 1453)    250731958.0\n",
       " Apache languages     100240551.0\n",
       "                         ...     \n",
       "Japanese               10162141.0\n",
       "Korean                  1573230.0\n",
       "Mandarin               83278896.0\n",
       "Maya                   50866635.0\n",
       "Telugu                 10947026.0\n",
       "Name: revenue, Length: 122, dtype: Float64"
      ]
     },
     "execution_count": 58,
     "metadata": {},
     "output_type": "execute_result"
    }
   ],
   "source": [
    "lang_revenue_avg = lang_df.groupby('Lang').mean(numeric_only=True)['revenue'].round()\n",
    "lang_revenue_avg"
   ]
  },
  {
   "cell_type": "code",
   "execution_count": 63,
   "metadata": {},
   "outputs": [
    {
     "data": {
      "text/plain": [
       "Lang\n",
       " Afrikaans            120580943.0\n",
       " Albanian             145000989.0\n",
       " American Sign        125734058.0\n",
       " Ancient (to 1453)    250731958.0\n",
       " Apache languages     100240551.0\n",
       "                         ...     \n",
       "Japanese               10162141.0\n",
       "Korean                  1573230.0\n",
       "Mandarin               83278896.0\n",
       "Maya                   50866635.0\n",
       "Telugu                 10947026.0\n",
       "Name: revenue, Length: 122, dtype: Float64"
      ]
     },
     "execution_count": 63,
     "metadata": {},
     "output_type": "execute_result"
    }
   ],
   "source": [
    "lang_revenue_avg"
   ]
  },
  {
   "cell_type": "code",
   "execution_count": null,
   "metadata": {},
   "outputs": [],
   "source": []
  },
  {
   "cell_type": "code",
   "execution_count": null,
   "metadata": {},
   "outputs": [],
   "source": []
  }
 ],
 "metadata": {
  "kernelspec": {
   "display_name": "base",
   "language": "python",
   "name": "python3"
  },
  "language_info": {
   "codemirror_mode": {
    "name": "ipython",
    "version": 3
   },
   "file_extension": ".py",
   "mimetype": "text/x-python",
   "name": "python",
   "nbconvert_exporter": "python",
   "pygments_lexer": "ipython3",
   "version": "3.12.4"
  }
 },
 "nbformat": 4,
 "nbformat_minor": 2
}
