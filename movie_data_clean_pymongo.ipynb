{
 "cells": [
  {
   "cell_type": "markdown",
   "id": "6607ba1a",
   "metadata": {},
   "source": [
    "# Movies"
   ]
  },
  {
   "cell_type": "markdown",
   "id": "6df4e62d",
   "metadata": {},
   "source": [
    "Import the data first:\n",
    "\n",
    "```shell\n",
    "mongoimport --type csv -d movies_db -c movies --headerline movies.csv\n",
    "```"
   ]
  },
  {
   "cell_type": "code",
   "execution_count": 21,
   "id": "1fce4f22",
   "metadata": {},
   "outputs": [],
   "source": [
    "from pymongo import MongoClient"
   ]
  },
  {
   "cell_type": "code",
   "execution_count": 22,
   "id": "9dc8826d",
   "metadata": {},
   "outputs": [],
   "source": [
    "# Create an instance of MongoClient\n",
    "mongo = MongoClient(port=27017)"
   ]
  },
  {
   "cell_type": "code",
   "execution_count": 23,
   "id": "3cab0c81",
   "metadata": {},
   "outputs": [],
   "source": [
    "# assign the database to a variable name\n",
    "db = mongo['movies_db']"
   ]
  },
  {
   "cell_type": "code",
   "execution_count": 24,
   "id": "3f57b567",
   "metadata": {},
   "outputs": [
    {
     "name": "stdout",
     "output_type": "stream",
     "text": [
      "['movies']\n"
     ]
    }
   ],
   "source": [
    "# review the collections in our new database\n",
    "print(db.list_collection_names())"
   ]
  },
  {
   "cell_type": "code",
   "execution_count": 25,
   "id": "6360d848",
   "metadata": {},
   "outputs": [
    {
     "name": "stdout",
     "output_type": "stream",
     "text": [
      "{'_id': ObjectId('6670c73360f5cffce769f013'), 'imdbID': 'tt9114286', 'Title': 'Black Panther: Wakanda Forever', 'Year': 2022, 'Runtime': '161 min', 'Genre': 'Action, Adventure, Drama', 'Awards': 'Won 1 Oscar. 50 wins & 172 nominations total', 'BoxOffice': '$453,829,060 ', 'Ratings': \"[{'Source': 'Internet Movie Database', 'Value': '6.7/10'}, {'Source': 'Rotten Tomatoes', 'Value': '83%'}, {'Source': 'Metacritic', 'Value': '67/100'}]\", 'Language': 'English, Xhosa, Maya, Spanish, Haitian, French', 'Director': 'Ryan Coogler', 'Actors': \"Letitia Wright, Lupita Nyong'o, Danai Gurira\"}\n"
     ]
    }
   ],
   "source": [
    "# review a document in the customer_list collection\n",
    "print(db.movies.find_one())"
   ]
  },
  {
   "cell_type": "code",
   "execution_count": 39,
   "id": "c6d8a4fd",
   "metadata": {},
   "outputs": [],
   "source": [
    "# assign the collection to a variable\n",
    "movies_list = db['movies']"
   ]
  },
  {
   "cell_type": "code",
   "execution_count": 40,
   "id": "70ebd8f5-5734-47d9-beab-99682245b170",
   "metadata": {},
   "outputs": [],
   "source": [
    "movies_list_ratings = db['movies_ratings']"
   ]
  },
  {
   "cell_type": "code",
   "execution_count": 41,
   "id": "48fecbed-c76e-4858-8621-2027984643df",
   "metadata": {},
   "outputs": [
    {
     "name": "stdout",
     "output_type": "stream",
     "text": [
      "Total documents in source collection: 995\n"
     ]
    }
   ],
   "source": [
    "# Check the number of documents in the source collection\n",
    "document_count = movies_list.count_documents({})\n",
    "print(f'Total documents in source collection: {document_count}')"
   ]
  },
  {
   "cell_type": "code",
   "execution_count": 42,
   "id": "747ae3b6-8b64-4d05-8ef8-cd55d7fc9f89",
   "metadata": {},
   "outputs": [
    {
     "name": "stdout",
     "output_type": "stream",
     "text": [
      "Duplicated 995 documents from movies to movies_ratings.\n"
     ]
    }
   ],
   "source": [
    "# Proceed only if there are movies in the source collection\n",
    "if document_count > 0:\n",
    "    # Fetch all documents from the source collection\n",
    "    documents = list(movies_list.find())\n",
    "\n",
    "    # Remove the '_id' field from each movie to avoid duplicate key error\n",
    "    for document in documents:\n",
    "        if '_id' in document:\n",
    "            del document['_id']\n",
    "    \n",
    "    # Insert movies into the destination collection\n",
    "    if documents:\n",
    "        movies_list_ratings.insert_many(documents)\n",
    "        print(f'Duplicated {len(documents)} documents from {movies_list.name} to {movies_list_ratings.name}.')\n",
    "    else:\n",
    "        print('No documents found to insert.')\n",
    "else:\n",
    "    print('Source collection is empty. No documents to duplicate.')"
   ]
  },
  {
   "cell_type": "code",
   "execution_count": 47,
   "id": "e6f7a0ee",
   "metadata": {},
   "outputs": [],
   "source": [
    "# Remove ratings data from movies_list"
   ]
  },
  {
   "cell_type": "code",
   "execution_count": 48,
   "id": "2cf28c9b-9e73-4e47-92ef-f6c0ff4cebd8",
   "metadata": {},
   "outputs": [
    {
     "name": "stdout",
     "output_type": "stream",
     "text": [
      "Removed the 'ratings' field from all documents in the 'movies' collection.\n"
     ]
    }
   ],
   "source": [
    "# Remove the 'ratings' field\n",
    "movies_list.update_many({}, {\"$unset\": {\"Ratings\": \"\"}})\n",
    "\n",
    "print(\"Removed the 'ratings' field from all documents in the 'movies' collection.\")"
   ]
  },
  {
   "cell_type": "code",
   "execution_count": 50,
   "id": "d2d4c2fa-8266-47c5-a64d-d40955634ed7",
   "metadata": {},
   "outputs": [
    {
     "name": "stdout",
     "output_type": "stream",
     "text": [
      "Removed the 'Title, Year, Runtime, Genre, Awards, Box Office, Language, Director, Actors' field from all documents in the 'movies_ratings' collection.\n"
     ]
    }
   ],
   "source": [
    "# Remove the 'Title, Year, Runtime, Genre, Awards, Box Office, Language, Director, Actors' field\n",
    "movies_list_ratings.update_many({}, {\"$unset\": {\"Title\": \"\", \"Year\": \"\", \"Runtime\": \"\", \"Genre\": \"\", \"Awards\": \"\", \"BoxOffice\": \"\", \"Language\": \"\",\n",
    "                                               \"Director\": \"\", \"Actors\": \"\",}})\n",
    "\n",
    "print(\"Removed the 'Title, Year, Runtime, Genre, Awards, Box Office, Language, Director, Actors' field from all documents in the 'movies_ratings' collection.\")"
   ]
  },
  {
   "cell_type": "code",
   "execution_count": null,
   "id": "f323058e-481a-48d5-a797-46e055c641d1",
   "metadata": {},
   "outputs": [],
   "source": [
    "# Split Ratings column per each source, and create a column for each source"
   ]
  },
  {
   "cell_type": "code",
   "execution_count": 52,
   "id": "96db6ec0-6a66-4d28-a207-f6179c64d17b",
   "metadata": {},
   "outputs": [],
   "source": [
    "import ast "
   ]
  },
  {
   "cell_type": "code",
   "execution_count": 53,
   "id": "0d3b60e0-8e56-49d0-9bd4-cee7d3776992",
   "metadata": {},
   "outputs": [],
   "source": [
    "# Iterate over each movie in movies_list_ratings\n",
    "for movie in movies_list_ratings.find():\n",
    "    # Get the Ratings from the document and parse it as a list\n",
    "    ratings = ast.literal_eval(movie.get('Ratings', '[]'))\n",
    "\n",
    "    # Create new columns for each source in the document\n",
    "    for rating in ratings:\n",
    "        source = rating['Source']\n",
    "        value = rating['Value']\n",
    "        movies_list_ratings.update_one(\n",
    "            {'_id': movie['_id']},\n",
    "            {'$set': {source: value}}\n",
    "        )"
   ]
  },
  {
   "cell_type": "code",
   "execution_count": 56,
   "id": "68e8a7da-3e1f-4d56-b6aa-653df6dcdc96",
   "metadata": {},
   "outputs": [
    {
     "data": {
      "text/plain": [
       "UpdateResult({'n': 995, 'nModified': 995, 'ok': 1.0, 'updatedExisting': True}, acknowledged=True)"
      ]
     },
     "execution_count": 56,
     "metadata": {},
     "output_type": "execute_result"
    }
   ],
   "source": [
    "# Remove 'Source' field \n",
    "movies_list_ratings.update_many({}, {\"$unset\": {\"Ratings\": \"\"}})"
   ]
  },
  {
   "cell_type": "code",
   "execution_count": null,
   "id": "e1f35bc9",
   "metadata": {},
   "outputs": [],
   "source": []
  }
 ],
 "metadata": {
  "kernelspec": {
   "display_name": "Python 3 (ipykernel)",
   "language": "python",
   "name": "python3"
  },
  "language_info": {
   "codemirror_mode": {
    "name": "ipython",
    "version": 3
   },
   "file_extension": ".py",
   "mimetype": "text/x-python",
   "name": "python",
   "nbconvert_exporter": "python",
   "pygments_lexer": "ipython3",
   "version": "3.11.7"
  }
 },
 "nbformat": 4,
 "nbformat_minor": 5
}
